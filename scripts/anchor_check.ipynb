{
 "cells": [
  {
   "cell_type": "code",
   "execution_count": null,
   "metadata": {},
   "outputs": [],
   "source": [
    "get_ipython().magic('matplotlib inline')\n",
    "get_ipython().magic('reload_ext autoreload')\n",
    "get_ipython().magic('autoreload 2')\n",
    "from anchor_detect import *\n",
    "from anchor_check import *"
   ]
  },
  {
   "cell_type": "markdown",
   "metadata": {},
   "source": [
    "# Check anchor distribution"
   ]
  },
  {
   "cell_type": "code",
   "execution_count": 45,
   "metadata": {},
   "outputs": [],
   "source": [
    "meta_dict = pickle.load(open('../data/video_meta_dict.pkl', 'rb'))\n",
    "com_dict = pickle.load(open('../data/commercial_dict.pkl', 'rb'))\n",
    "anchor_dict = pickle.load(open('../data/anchor_dict.pkl', 'rb'))"
   ]
  },
  {
   "cell_type": "code",
   "execution_count": null,
   "metadata": {},
   "outputs": [],
   "source": [
    "video = 'CNNW_20160721_160000_Inside_Politics'\n",
    "if video in com_dict:\n",
    "    com_list = com_dict[video]\n",
    "else:\n",
    "    com_list = None \n",
    "plot_distribution(meta_dict[video], anchor_dict[video], com_list)"
   ]
  },
  {
   "cell_type": "markdown",
   "metadata": {},
   "source": [
    "# Train anchor classifier on the same type of show"
   ]
  },
  {
   "cell_type": "code",
   "execution_count": 2,
   "metadata": {},
   "outputs": [],
   "source": [
    "anchor_dict = pickle.load(open('../data/anchor_dict_half0.pkl', 'rb'))"
   ]
  },
  {
   "cell_type": "code",
   "execution_count": null,
   "metadata": {},
   "outputs": [],
   "source": [
    "# prepare training examples\n",
    "show_name = 'Hannity'\n",
    "# def train_identity_classifier(anchor_dict, show_name):\n",
    "FACE_POS_THRESH = 1.0\n",
    "FACE_NEG_THRESH = 1.1\n",
    "anchor_dict_show = group_by_show(anchor_dict)\n",
    "real_anchor = cluster_real_anchor(anchor_dict_show[show_name])\n",
    "anchor_center = build_anchor_center(anchor_dict_show[show_name])\n",
    "\n",
    "identity = real_anchor[0]\n",
    "data = []\n",
    "meta = []\n",
    "labels = []\n",
    "positive = 0\n",
    "## collect positive examples\n",
    "for video, anchor_group in anchor_dict_show[show_name].items():\n",
    "    for anchor_person in anchor_group:\n",
    "        for p in anchor_person:\n",
    "            if np.linalg.norm(p['feature'] - identity) < FACE_POS_THRESH:\n",
    "                data.append(p['feature'])\n",
    "                meta.append({'video': video, 'fid': p['fid'], 'bbox': p['bbox']})\n",
    "                labels.append(1)\n",
    "                positive += 1\n",
    "print(\"positive examples: %d\" % positive)\n",
    "## collect negative examples\n",
    "negative = 0\n",
    "for show, show_dict in anchor_dict_show.items():\n",
    "#     if negative > positive:\n",
    "#             break\n",
    "    if show == show_name:\n",
    "        continue\n",
    "    other_center = build_anchor_center(show_dict)\n",
    "    for video, centers in other_center.items():\n",
    "        for p in centers:\n",
    "            if np.linalg.norm(p['feature'] - identity) > FACE_NEG_THRESH:\n",
    "                data.append(p['feature'])\n",
    "                meta.append({'video': video, 'fid': p['fid'], 'bbox': p['bbox']})\n",
    "                labels.append(-1)\n",
    "                negative += 1\n",
    "#         break\n",
    "print(\"negative examples: %d\" % negative)\n"
   ]
  },
  {
   "cell_type": "code",
   "execution_count": 37,
   "metadata": {},
   "outputs": [],
   "source": [
    "## split dataset\n",
    "data_train, meta_train, labels_train, data_test, meta_test, labels_test = split_dataset(data, meta, labels) "
   ]
  },
  {
   "cell_type": "code",
   "execution_count": null,
   "metadata": {},
   "outputs": [],
   "source": [
    "from sklearn.svm import SVC \n",
    "\n",
    "## train\n",
    "# clf = SVC(probability=True)\n",
    "clf = SVC()\n",
    "clf.fit(data_train, labels_train) "
   ]
  },
  {
   "cell_type": "code",
   "execution_count": null,
   "metadata": {},
   "outputs": [],
   "source": [
    "# labels_predict = clf.predict(data_test)\n",
    "score = clf.score(data_test, labels_test)\n",
    "print(score)\n",
    "# proba = clf.predict_proba(data_test)"
   ]
  },
  {
   "cell_type": "code",
   "execution_count": null,
   "metadata": {},
   "outputs": [],
   "source": [
    "weak_pos = []\n",
    "weak_neg = []\n",
    "PROB_THRESH = 0.01\n",
    "for idx, p in enumerate(proba):\n",
    "    if p[0] < p[1] and p[0] > PROB_THRESH:\n",
    "        print('pos', p)\n",
    "        weak_pos.append(meta_test[idx])\n",
    "    if p[0] > p[1] and p[1] > PROB_THRESH:\n",
    "        print('neg', p)\n",
    "        weak_neg.append(meta_test[idx])\n",
    "print(\"Num of weak positive: %d\" % len(weak_pos))\n",
    "print(\"Num of weak negative: %d\" % len(weak_neg))\n",
    "weak_dict = {'weak_pos': weak_pos, 'weak_neg': weak_neg}"
   ]
  },
  {
   "cell_type": "markdown",
   "metadata": {},
   "source": [
    "# Unsupervised check using the same type of show"
   ]
  },
  {
   "cell_type": "code",
   "execution_count": null,
   "metadata": {},
   "outputs": [],
   "source": [
    "anchor_dict = pickle.load(open('../data/anchor_dict_half0.pkl', 'rb'))\n",
    "\n",
    "anchor_dict_show = group_by_show(anchor_dict)\n",
    "\n",
    "check_anchor_by_show(anchor_dict_show['Wolf'])"
   ]
  }
 ],
 "metadata": {
  "kernelspec": {
   "display_name": "Python 3",
   "language": "python",
   "name": "python3"
  },
  "language_info": {
   "codemirror_mode": {
    "name": "ipython",
    "version": 3
   },
   "file_extension": ".py",
   "mimetype": "text/x-python",
   "name": "python",
   "nbconvert_exporter": "python",
   "pygments_lexer": "ipython3",
   "version": "3.5.2"
  }
 },
 "nbformat": 4,
 "nbformat_minor": 2
}
