{
 "cells": [
  {
   "cell_type": "code",
   "execution_count": 2,
   "metadata": {},
   "outputs": [],
   "source": [
    "get_ipython().magic('matplotlib inline')\n",
    "get_ipython().magic('reload_ext autoreload')\n",
    "get_ipython().magic('autoreload 2')\n",
    "from anchor_detect import *"
   ]
  },
  {
   "cell_type": "markdown",
   "metadata": {},
   "source": [
    "# Detect anchor in video list"
   ]
  },
  {
   "cell_type": "code",
   "execution_count": 5,
   "metadata": {
    "scrolled": true
   },
   "outputs": [],
   "source": [
    "video_list_path = '../data/face_test.txt'\n",
    "# test_video_list(video_list_path)\n",
    "detect_anchor_parallel(None, '../data/anchor_dict_half1.pkl', plot_c=False, nthread=32)"
   ]
  },
  {
   "cell_type": "markdown",
   "metadata": {},
   "source": [
    "# Collect tmp results"
   ]
  },
  {
   "cell_type": "code",
   "execution_count": 3,
   "metadata": {},
   "outputs": [],
   "source": [
    "anchor_dict_path = '../data/anchor_dict_half0.pkl'\n",
    "anchor_dict = {}\n",
    "anchor_dict_list = []\n",
    "for i in range(32):\n",
    "    anchor_dict_list.append('../tmp/anchor_dict_' + str(i) + '.pkl')\n",
    "\n",
    "for path in anchor_dict_list:\n",
    "    dict_file = Path(path)\n",
    "    if not dict_file.is_file():\n",
    "        continue\n",
    "    anchor_dict_tmp = pickle.load(open(path, \"rb\" ))\n",
    "#         anchor_dict = {**anchor_dict, **anchor_dict_tmp}\n",
    "    for key, value in anchor_dict_tmp.items():\n",
    "        anchor_dict[key] = value\n",
    "\n",
    "pickle.dump(anchor_dict, open(anchor_dict_path, \"wb\" ), protocol=2)  "
   ]
  },
  {
   "cell_type": "markdown",
   "metadata": {},
   "source": [
    "# Clean Anchor through multiple shows"
   ]
  },
  {
   "cell_type": "code",
   "execution_count": null,
   "metadata": {},
   "outputs": [],
   "source": [
    "# anchor_dict = pickle.load(open('../data/anchor_dict_test.pkl', 'rb'))\n",
    "# people_dict = build_people_dict(anchor_dict)\n",
    "# pickle.dump(people_dict, open('../data/people_dict_half0.pkl', 'wb'), protocol=2)\n",
    "# people_dict = pickle.load(open('../data/people_dict.pkl', 'rb'))\n",
    "anchor_dict_clean = clean_anchor_dict(anchor_dict, people_dict)\n",
    "# pickle.dump(anchor_dict_clean, open('../data/anchor_dict_half0.pkl', 'wb'), protocol=2)"
   ]
  },
  {
   "cell_type": "code",
   "execution_count": 16,
   "metadata": {},
   "outputs": [],
   "source": [
    "repeat_cnt = []\n",
    "anchor_dict_new = clean_anchor_dict(anchor_dict, people_dict, repeat_cnt)\n",
    "pickle.dump(anchor_dict_new, open('../data/anchor_dict.pkl', 'wb'))"
   ]
  },
  {
   "cell_type": "code",
   "execution_count": null,
   "metadata": {},
   "outputs": [],
   "source": [
    "max_cnt = int(np.max(repeat_cnt))    \n",
    "y = np.bincount(repeat_cnt)\n",
    "x = np.arange(max_cnt+1)\n",
    "y = 1. * y / len(repeat_cnt) * 100\n",
    "plt.figure()\n",
    "plt.bar(x, y)\n",
    "plt.xlabel('occurence in other type of shows')\n",
    "plt.ylabel('percent of videos (%)')\n",
    "plt.title('candidate anchors shown in other type of shows')"
   ]
  },
  {
   "cell_type": "markdown",
   "metadata": {},
   "source": [
    "# Stitch all anchor"
   ]
  },
  {
   "cell_type": "code",
   "execution_count": null,
   "metadata": {},
   "outputs": [],
   "source": [
    "import os\n",
    "images = []\n",
    "folder = '../tmp/anchor_single/'\n",
    "for file in sorted(os.listdir(folder)):\n",
    "    img = cv2.imread(folder + file)\n",
    "    cv2.rectangle(img, (0, 0), (640, 30), color=(255,255,255), thickness=-1)\n",
    "    cv2.putText(img, file, (0,25), cv2.FONT_HERSHEY_SIMPLEX, fontScale=0.6, color=(0,0,0), thickness=2)\n",
    "    if not img is None:\n",
    "        images.append(img)\n",
    "\n",
    "images_np = np.zeros((len(images), 480, 640, 3))\n",
    "for i, im in enumerate(images):\n",
    "    if im.shape[0] == 480:\n",
    "        images_np[i] = im\n",
    "    else:\n",
    "        images_np[i, :360, :, :] = im\n",
    "WIDTH = 384\n",
    "ncol = 5\n",
    "grid = view_grid(images_np, ncol)\n",
    "H, W, C = grid.shape\n",
    "filename = '../tmp/anchor_all.jpg'\n",
    "grid_small = cv2.resize(grid, (WIDTH*ncol, int(H/W*WIDTH*ncol)))\n",
    "cv2.imwrite(filename, grid_small)"
   ]
  },
  {
   "cell_type": "markdown",
   "metadata": {},
   "source": [
    "# Detect anchor in sinlge video"
   ]
  },
  {
   "cell_type": "code",
   "execution_count": null,
   "metadata": {},
   "outputs": [],
   "source": [
    "test_single_video('CNNW_20170502_160000_Inside_Politics', plot_d=True, plot_c=False)"
   ]
  },
  {
   "cell_type": "markdown",
   "metadata": {},
   "source": [
    "# Check single frame"
   ]
  },
  {
   "cell_type": "code",
   "execution_count": null,
   "metadata": {},
   "outputs": [],
   "source": [
    "video = 'MSNBCW_20170515_150000_MSNBC_Live'\n",
    "fid = 170\n",
    "url = 'http://104.198.10.97/frameserver/fetch?path=tvnews%2Fvideos%2F' + video + '.mp4&frame=' + str(fid)\n",
    "print(url)"
   ]
  },
  {
   "cell_type": "markdown",
   "metadata": {},
   "source": [
    "# Create host/non-host label"
   ]
  },
  {
   "cell_type": "code",
   "execution_count": 7,
   "metadata": {},
   "outputs": [],
   "source": [
    "host_dict = {}\n",
    "for video, anchor_group in anchor_dict.items():\n",
    "    res = []\n",
    "    for anchor_person in anchor_group:\n",
    "        for p in anchor_person:\n",
    "            res.append((p['fid'], p['bbox']))\n",
    "    host_dict[video] = res\n",
    "pickle.dump(host_dict, open('../data/host_dict.pkl', 'wb'), protocol=2)"
   ]
  }
 ],
 "metadata": {
  "kernelspec": {
   "display_name": "Python 3",
   "language": "python",
   "name": "python3"
  },
  "language_info": {
   "codemirror_mode": {
    "name": "ipython",
    "version": 3
   },
   "file_extension": ".py",
   "mimetype": "text/x-python",
   "name": "python",
   "nbconvert_exporter": "python",
   "pygments_lexer": "ipython3",
   "version": "3.5.2"
  }
 },
 "nbformat": 4,
 "nbformat_minor": 2
}
