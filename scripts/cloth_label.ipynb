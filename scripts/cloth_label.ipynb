{
 "cells": [
  {
   "cell_type": "code",
   "execution_count": 1,
   "metadata": {},
   "outputs": [],
   "source": [
    "get_ipython().magic('matplotlib inline')\n",
    "get_ipython().magic('reload_ext autoreload')\n",
    "get_ipython().magic('autoreload 2')\n",
    "from prepare_cloth import *\n",
    "# from anchor_detect import *"
   ]
  },
  {
   "cell_type": "markdown",
   "metadata": {},
   "source": [
    "# Prepare csv file for labeling"
   ]
  },
  {
   "cell_type": "code",
   "execution_count": 3,
   "metadata": {},
   "outputs": [],
   "source": [
    "import pickle\n",
    "import numpy as np\n",
    "cloth_label_infer = pickle.load(open('../data/cloth/cloth_label_infer.pkl', 'rb'))"
   ]
  },
  {
   "cell_type": "code",
   "execution_count": 2,
   "metadata": {},
   "outputs": [],
   "source": [
    "attri_name = ['pattern', 'major_color', 'necktie', 'collar', 'scarf', 'sleeve', 'neckline', 'clothing', 'jacket', 'hat', \\\n",
    "              'glass', 'layer', 'necktie_color', 'necktie_pattern', 'hair_color', 'hair_length']\n",
    "attri_dict = [\n",
    "        {'solid': 0, 'graphics' : 1, 'striped' : 2, 'floral' : 3, 'plaid' : 4, 'spotted' : 5}, # clothing_pattern\n",
    "        {'black' : 0, 'white' : 1, 'more color' : 2, 'blue' : 3, 'gray' : 4, 'red' : 5,\n",
    "                'pink' : 6, 'green' : 7, 'yellow' : 8, 'brown' : 9, 'purple' : 10, 'orange' : 11,\n",
    "                'cyan' : 12, 'dark blue' : 13}, # major_color\n",
    "        {'necktie no': 0, 'necktie yes' : 1}, # wearing_necktie\n",
    "        {'collar no': 0, 'collar yes' : 1}, # collar_presence\n",
    "        {'scarf no': 0, 'scarf yes' : 1}, # wearing_scarf\n",
    "        {'long sleeve' : 0, 'short sleeve' : 1, 'no sleeve' : 2}, # sleeve_length\n",
    "        {'round' : 0, 'folded' : 1, 'v-shape' : 2}, # neckline_shape\n",
    "        {'shirt' : 0, 'outerwear' : 1, 't-shirt' : 2, 'dress' : 3,\n",
    "            'tank top' : 4, 'suit' : 5, 'sweater' : 6}, # clothing_category\n",
    "        {'jacket no': 0, 'jacket yes' : 1}, # wearing_jacket\n",
    "        {'hat no': 0, 'hat yes' : 1}, # wearing_hat\n",
    "        {'glasses no': 0, 'glasses yes' : 1}, # wearing_glasses\n",
    "        {'one layer': 0, 'more layer' : 1}, # multiple_layers\n",
    "        {'black' : 0, 'white' : 1, 'more color' : 2, 'blue' : 3, 'gray' : 4, 'red' : 5,\n",
    "                'pink' : 6, 'green' : 7, 'yellow' : 8, 'brown' : 9, 'purple' : 10, 'orange' : 11,\n",
    "                'cyan' : 12, 'dark blue' : 13}, # necktie_color\n",
    "        {'solid' : 0, 'striped' : 1, 'spotted' : 2}, # necktie_pattern\n",
    "        {'black' : 0, 'white': 1, 'blond' : 2, 'brown' : 3, 'gray' : 4}, # hair_color\n",
    "        {'long' : 0, 'medium' : 1, 'short' : 2, 'bald' : 3} # hair_longth\n",
    "]\n",
    "attri_num = len(attri_name)\n",
    "attri_dict_inv = []\n",
    "for d in attri_dict:\n",
    "    d_inv = {}\n",
    "    for k, v in d.items():\n",
    "        d_inv[v] = k\n",
    "    attri_dict_inv.append(d_inv)"
   ]
  },
  {
   "cell_type": "code",
   "execution_count": 16,
   "metadata": {},
   "outputs": [],
   "source": [
    "## create structure of [[manifest per anchor]] \n",
    "pid = -1\n",
    "current_video = ''\n",
    "current_anchor = 0\n",
    "cloth_label_infer_person = []\n",
    "for p in cloth_label_infer:\n",
    "    video = p[0]\n",
    "    aid = p[1]\n",
    "    if video != current_video or aid != current_anchor:\n",
    "        cloth_label_infer_person.append([])\n",
    "        current_video = video\n",
    "        current_anchor = aid\n",
    "    cloth_label_infer_person[-1].append(p)"
   ]
  },
  {
   "cell_type": "code",
   "execution_count": 17,
   "metadata": {},
   "outputs": [],
   "source": [
    "NUM_VOTE = 5\n",
    "MAX_CLASS = 20\n",
    "    \n",
    "fid = 0\n",
    "images = []\n",
    "for pid, p_group in enumerate(cloth_label_infer_person):\n",
    "    if pid % 100 == 0:\n",
    "        if images != []:\n",
    "            grid = stitch_img_grid(images, 200, 100, 10)\n",
    "            filename = '../data/cloth/label/cloth_label_' + str(fid) + '.jpg'\n",
    "            cv2.imwrite(filename, grid)\n",
    "            fid += 1\n",
    "            images = []\n",
    "        csv = open('../data/cloth/label/cloth_label_' + str(fid) + '.csv', 'w')\n",
    "    \n",
    "    video = p_group[0][0]\n",
    "    votes = []\n",
    "    num_vote = min(len(p_group), NUM_VOTE)\n",
    "    for i in range(num_vote):\n",
    "        votes.append(p_group[i][3])\n",
    "    votes = np.array(votes).transpose()\n",
    "    major_vote = []\n",
    "    for idx, vote in enumerate(votes):\n",
    "        cnt = np.zeros(MAX_CLASS)\n",
    "        for v in vote:\n",
    "            cnt[int(v)] += 1\n",
    "        major_vote.append(np.argmax(cnt))\n",
    "    ## write csv\n",
    "    csv.write(str(pid) + ',' + video + '\\n')\n",
    "    for idx, c in enumerate(major_vote):\n",
    "        csv.write(attri_dict_inv[idx][c].lower() + ',')\n",
    "    csv.write('necktie_color,necktie_pattern,hair_color,hair_length\\n')\n",
    "    for i in range(len(p_group)):\n",
    "        csv.write(str(i))\n",
    "        if i != len(p_group):\n",
    "            csv.write(',')\n",
    "    csv.write('\\n')\n",
    "    ## collect images\n",
    "    img_dir = '../data/cloth/cloth_label/'\n",
    "    for i, p in enumerate(p_group):\n",
    "        img = cv2.imread(img_dir + p[2])\n",
    "        if i == 0:\n",
    "            text = str(pid) + '||' + str(i)\n",
    "        else:\n",
    "            text = str(i)\n",
    "        cv2.rectangle(img, (0, 0), (320, 30), color=(255,255,255), thickness=-1)\n",
    "        cv2.putText(img, text, (0,25), cv2.FONT_HERSHEY_SIMPLEX, fontScale=0.7, color=(0,0,0), thickness=2)\n",
    "        images.append(img)\n",
    "    for i in range(20 - len(p_group)):\n",
    "        images.append(None)\n",
    "        \n",
    "csv.close()"
   ]
  },
  {
   "cell_type": "markdown",
   "metadata": {},
   "source": [
    "# Load csv to create labeled dataset"
   ]
  },
  {
   "cell_type": "code",
   "execution_count": 4,
   "metadata": {},
   "outputs": [],
   "source": [
    "## create structure of [[manifest per anchor]] \n",
    "pid = -1\n",
    "current_video = ''\n",
    "current_anchor = 0\n",
    "cloth_label_infer_person = []\n",
    "for p in cloth_label_infer:\n",
    "    video = p[0]\n",
    "    aid = p[1]\n",
    "    if video != current_video or aid != current_anchor:\n",
    "        cloth_label_infer_person.append([])\n",
    "        current_video = video\n",
    "        current_anchor = aid\n",
    "    cloth_label_infer_person[-1].append(p)"
   ]
  },
  {
   "cell_type": "code",
   "execution_count": 15,
   "metadata": {},
   "outputs": [],
   "source": [
    "import csv\n",
    "from random import shuffle\n",
    "labeled_id = [0, 5, 6, 13]\n",
    "cloth_label = []\n",
    "for fid in labeled_id:\n",
    "    csv_name = '../data/cloth/label/cloth_label_c_' + str(fid) + '.csv'\n",
    "    with open(csv_name) as label_file:\n",
    "        label_file.seek(0)\n",
    "        reader = csv.reader(label_file, delimiter=',')\n",
    "        while True:\n",
    "            try: \n",
    "                head = next(reader)\n",
    "                attributes = next(reader)\n",
    "                img_indices = next(reader)\n",
    "                pid = int(head[0])\n",
    "                img_indices = [int(idx) for idx in img_indices if idx != '']\n",
    "                if len(img_indices) == 0:\n",
    "                    continue\n",
    "                else:\n",
    "                    person_group = []\n",
    "                    for idx in img_indices:\n",
    "                        manifest = cloth_label_infer_person[pid][idx]\n",
    "                        true_attribute = []\n",
    "                        for i, attr in enumerate(attributes):\n",
    "                            if i == len(attri_name):\n",
    "                                break\n",
    "                            if attr == '':\n",
    "                                true_attribute.append(-1)\n",
    "                            else:\n",
    "                                true_attribute.append(attri_dict[i][attr])\n",
    "                        manifest[-1] = true_attribute\n",
    "                        person_group.append(manifest)\n",
    "                    cloth_label.append(person_group)\n",
    "            except csv.Error:\n",
    "                print(csv.Error)\n",
    "                break\n",
    "            except StopIteration:\n",
    "                break\n",
    "\n",
    "shuffle(cloth_label)\n",
    "# pickle.dump(cloth_label)"
   ]
  },
  {
   "cell_type": "code",
   "execution_count": 18,
   "metadata": {},
   "outputs": [],
   "source": [
    "# print(len(cloth_label))\n",
    "# print(cloth_label[0])\n",
    "pickle.dump(cloth_label, open('../data/cloth/cloth_label_manifest.pkl', 'wb'), protocol=2)"
   ]
  }
 ],
 "metadata": {
  "kernelspec": {
   "display_name": "Python 2",
   "language": "python",
   "name": "python2"
  },
  "language_info": {
   "codemirror_mode": {
    "name": "ipython",
    "version": 2
   },
   "file_extension": ".py",
   "mimetype": "text/x-python",
   "name": "python",
   "nbconvert_exporter": "python",
   "pygments_lexer": "ipython2",
   "version": "2.7.12"
  }
 },
 "nbformat": 4,
 "nbformat_minor": 2
}
