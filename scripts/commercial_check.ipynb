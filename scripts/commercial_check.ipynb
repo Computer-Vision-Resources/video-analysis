{
 "cells": [
  {
   "cell_type": "code",
   "execution_count": 2,
   "metadata": {},
   "outputs": [],
   "source": [
    "get_ipython().magic('matplotlib inline')\n",
    "get_ipython().magic('reload_ext autoreload')\n",
    "get_ipython().magic('autoreload 2')\n",
    "from commercial_search import *\n",
    "from commercial_check import *"
   ]
  },
  {
   "cell_type": "markdown",
   "metadata": {},
   "source": [
    "# Unsupervised visualzation on the same type of show"
   ]
  },
  {
   "cell_type": "code",
   "execution_count": null,
   "metadata": {},
   "outputs": [],
   "source": [
    "# detect commercial\n",
    "start_time = time.time()\n",
    "\n",
    "video_list_path = '../data/video_list_Rachel_Maddow2.txt'\n",
    "# video_list_path = '../data/video_list_Happening_Now2.txt'\n",
    "result_RM, video_desp = test_video_list_unsupervised(video_list_path)\n",
    "# result_HN, video_desp = test_video_list_unsupervised(video_list_path)\n",
    "\n",
    "print(\"--- %s seconds ---\" % (time.time() - start_time))        "
   ]
  },
  {
   "cell_type": "code",
   "execution_count": null,
   "metadata": {},
   "outputs": [],
   "source": [
    "# visualize result\n",
    "commercial_gt = load_commercial_groundtruth()\n",
    "from check import *\n",
    "visualize_video_list(result_RM, commercial_gt, 3700)"
   ]
  },
  {
   "cell_type": "markdown",
   "metadata": {},
   "source": [
    "# Other checks"
   ]
  },
  {
   "cell_type": "code",
   "execution_count": null,
   "metadata": {},
   "outputs": [],
   "source": [
    "all_spans, long_video = detect_suspicous(result_RM)"
   ]
  },
  {
   "cell_type": "code",
   "execution_count": null,
   "metadata": {},
   "outputs": [],
   "source": [
    "find_popular_location(result_RM, 3700)"
   ]
  },
  {
   "cell_type": "code",
   "execution_count": 4,
   "metadata": {},
   "outputs": [],
   "source": [
    "com_dict = pickle.load(open('../data/commercial_dict.pkl', 'rb'))\n",
    "shot_dict = pickle.load(open('../data/shot_dict.pkl', 'rb'))\n",
    "check_com_shot_align(com_dict, shot_dict, num_visualize=20)"
   ]
  },
  {
   "cell_type": "code",
   "execution_count": null,
   "metadata": {},
   "outputs": [],
   "source": [
    "test_all_result()"
   ]
  },
  {
   "cell_type": "code",
   "execution_count": null,
   "metadata": {},
   "outputs": [],
   "source": [
    "visualize_commercials_per_minute()"
   ]
  },
  {
   "cell_type": "markdown",
   "metadata": {},
   "source": [
    "# Unsupervised stats check on the same type of show"
   ]
  },
  {
   "cell_type": "code",
   "execution_count": null,
   "metadata": {},
   "outputs": [],
   "source": [
    "show_group_stat, commercial_dict = get_stat_from_result()"
   ]
  },
  {
   "cell_type": "code",
   "execution_count": null,
   "metadata": {},
   "outputs": [],
   "source": [
    "cnt = 0\n",
    "for show in sorted(show_group_stat):\n",
    "    if show_group_stat[show]['stat_num']['num'] > 100:\n",
    "        print(show)\n",
    "#         print(show_group_stat[show]['stat_num'])\n",
    "#         print(show_group_stat[show]['stat_ratio'])\n",
    "#         cnt += show_group_stat[show]['stat_num']['num']\n",
    "# print(cnt, len(commercial_dict))"
   ]
  },
  {
   "cell_type": "code",
   "execution_count": null,
   "metadata": {},
   "outputs": [],
   "source": [
    "group = show_group_stat['Dateline_Extra']\n",
    "for video in sorted(group):\n",
    "    if video == 'stat_num' or video == 'stat_ratio':\n",
    "        continue\n",
    "#     if group[video]['commercial_num'] > 12:\n",
    "#         print(video, group[video]['commercial_num'])\n",
    "#     if group[video]['commercial_ratio'] > 0.4:\n",
    "    print(video, group[video]['commercial_num'])"
   ]
  },
  {
   "cell_type": "code",
   "execution_count": null,
   "metadata": {},
   "outputs": [],
   "source": [
    "visualize_show(show_group_stat, 'Happening_Now')"
   ]
  }
 ],
 "metadata": {
  "kernelspec": {
   "display_name": "Python 3",
   "language": "python",
   "name": "python3"
  },
  "language_info": {
   "codemirror_mode": {
    "name": "ipython",
    "version": 3
   },
   "file_extension": ".py",
   "mimetype": "text/x-python",
   "name": "python",
   "nbconvert_exporter": "python",
   "pygments_lexer": "ipython3",
   "version": "3.5.2"
  }
 },
 "nbformat": 4,
 "nbformat_minor": 2
}
