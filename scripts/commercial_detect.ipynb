{
 "cells": [
  {
   "cell_type": "code",
   "execution_count": null,
   "metadata": {},
   "outputs": [],
   "source": [
    "get_ipython().magic('matplotlib inline')\n",
    "get_ipython().magic('reload_ext autoreload')\n",
    "get_ipython().magic('autoreload 2')\n",
    "from commercial_search import *\n",
    "from commercial_check import *\n",
    "from compute_histogram import *\n",
    "# import sys\n",
    "# default_stdout = sys.stdout\n",
    "# sys.stdout = open('../log/log_commercial_search.txt', 'w')"
   ]
  },
  {
   "cell_type": "markdown",
   "metadata": {},
   "source": [
    "# Prepare data"
   ]
  },
  {
   "cell_type": "code",
   "execution_count": null,
   "metadata": {},
   "outputs": [],
   "source": [
    "# compute histogram\n",
    "video_list_path = '../data/video_list_Rachel_Maddow.txt'\n",
    "prepare_black_frame_list_multithread(video_list_path, 16)\n",
    "# prepare_black_frame_list(video_list_path)"
   ]
  },
  {
   "cell_type": "code",
   "execution_count": null,
   "metadata": {},
   "outputs": [],
   "source": [
    "# reformatting dicts from Will\n",
    "\n",
    "# video_meta_list = pickle.load(open('../data/video_meta.pkl', 'rb'))\n",
    "# video_meta_dict = {}\n",
    "# for item in video_meta_list:\n",
    "#     video_name = item['path'].replace('tvnews/videos/', '').replace('.mp4', '')\n",
    "#     fps = item['fps']\n",
    "#     video_frames = item['num_frames']\n",
    "#     video_length = int(video_frames / fps)\n",
    "#     video_meta_dict[video_name] = {'fps': fps, 'video_frames': video_frames, 'video_length': video_length}\n",
    "# pickle.dump(video_meta_dict, open('../data/video_meta_dict.pkl', 'wb'))\n",
    "\n",
    "all_shots = pickle.load(open('../data/all_shots.pkl', 'rb'))\n",
    "# print(len(shot_dict))\n",
    "out = open('../data/total_video_list.txt', 'w')\n",
    "black_frame_dict = {}\n",
    "shot_dict = {}\n",
    "for path in sorted(all_shots):\n",
    "    video_name = path.replace('tvnews/videos/', '').replace('.mp4', '')\n",
    "    shot_dict[video_name] = all_shots[path][0]\n",
    "    black_frame_dict[video_name] = all_shots[path][1]\n",
    "    out.write(video_name + '\\n')\n",
    "out.close()\n",
    "pickle.dump(shot_dict, open('../data/shot_dict.pkl', 'wb'))\n",
    "pickle.dump(black_frame_dict, open('../data/black_frame_dict.pkl', 'wb'))"
   ]
  },
  {
   "cell_type": "code",
   "execution_count": null,
   "metadata": {},
   "outputs": [],
   "source": [
    "# prepare video list for unsupervised test\n",
    "outfile = open('../data/video_list_Wolf.txt', 'w')\n",
    "video_list = open('../data/total_video_list.txt', 'r').read().split('\\n')\n",
    "\n",
    "# CNN = ['CNN_Newsroom_Live.mp4', 'New_Day.mp4']\n",
    "CNN = [\"Wolf\"]\n",
    "# FOX = ['Happening_Now', 'Hannity']\n",
    "FOX = []\n",
    "# MSNBC = ['MSNBC_Live.mp4', 'The_Rachel_Maddow_Show']\n",
    "MSNBC = []\n",
    "\n",
    "select_video = []\n",
    "for year in range(2015,2018):\n",
    "    for month in range(1, 13):\n",
    "        for day in ['05', '10', '15', '25']:\n",
    "            date = str(year) + '{:02d}'.format(month) + day\n",
    "            found = []\n",
    "            for video in video_list:\n",
    "                if video.find(date) != -1:\n",
    "                    for cnn in CNN:\n",
    "                        if not cnn in found and video.find(cnn) != -1:\n",
    "                            print(video)\n",
    "                            select_video.append(video)\n",
    "                            found.append(cnn)\n",
    "                    for fox in FOX:\n",
    "                        if not fox in found and video.find(fox) != -1:\n",
    "                            print(video)\n",
    "                            select_video.append(video)\n",
    "                            found.append(fox)\n",
    "                    for msnbc in MSNBC:\n",
    "                        if not msnbc in found and video.find(msnbc) != -1:\n",
    "                            print(video)\n",
    "                            select_video.append(video)\n",
    "                            found.append(msnbc)\n",
    "\n",
    "select_video.sort()\n",
    "for video in select_video:\n",
    "    outfile.write(video+'\\n')\n",
    "outfile.close()"
   ]
  },
  {
   "cell_type": "markdown",
   "metadata": {},
   "source": [
    "# detect commercial"
   ]
  },
  {
   "cell_type": "code",
   "execution_count": null,
   "metadata": {},
   "outputs": [],
   "source": [
    "# test on single video\n",
    "test_single_video(\"FOXNEWSW_20160527_040000_The_Kelly_File\", local=False)"
   ]
  },
  {
   "cell_type": "code",
   "execution_count": null,
   "metadata": {},
   "outputs": [],
   "source": [
    "# test on video list\n",
    "start_time = time.time()\n",
    "\n",
    "video_list_path = '../data/labeled_video_list.txt'\n",
    "\n",
    "result = test_video_list(video_list_path)\n",
    "print(\"--- %s seconds ---\" % (time.time() - start_time))        "
   ]
  },
  {
   "cell_type": "code",
   "execution_count": null,
   "metadata": {},
   "outputs": [],
   "source": [
    "# detect commercial through multithread\n",
    "start_time = time.time()\n",
    "\n",
    "video_list_path = '../data/total_video_list.txt'\n",
    "\n",
    "search_commercial_multithread(video_list_path, \"../data/commercial_dict_raw.pkl\", 30)\n",
    "print(\"--- %s seconds ---\" % (time.time() - start_time))        "
   ]
  },
  {
   "cell_type": "markdown",
   "metadata": {},
   "source": [
    "# collect tmp result"
   ]
  },
  {
   "cell_type": "code",
   "execution_count": null,
   "metadata": {},
   "outputs": [],
   "source": [
    "commercial_dict_list = []\n",
    "for i in range(30):\n",
    "    commercial_dict_list.append('../tmp/commercial_dict_' + str(i) + '.pkl')\n",
    "    \n",
    "commercial_dict = pickle.load(open('../data/commercial_dict_raw.pkl','rb'))\n",
    "for path in commercial_dict_list:\n",
    "        dict_file = Path(path)\n",
    "        if not dict_file.is_file():\n",
    "            continue\n",
    "        commercial_dict_tmp = pickle.load(open(path, \"rb\" ))\n",
    "        commercial_dict = {**commercial_dict, **commercial_dict_tmp}\n",
    "        \n",
    "pickle.dump(commercial_dict, open('../data/commercial_dict_raw2.pkl', \"wb\" ))"
   ]
  },
  {
   "cell_type": "markdown",
   "metadata": {},
   "source": [
    "# Post process result"
   ]
  },
  {
   "cell_type": "code",
   "execution_count": null,
   "metadata": {},
   "outputs": [],
   "source": [
    "# remove not confident commercial detection results\n",
    "post_process_result()"
   ]
  },
  {
   "cell_type": "markdown",
   "metadata": {},
   "source": [
    "# Test API"
   ]
  },
  {
   "cell_type": "code",
   "execution_count": null,
   "metadata": {},
   "outputs": [],
   "source": [
    "import pickle\n",
    "from detect_commercial import detect_commercial\n",
    "meta_dict = pickle.load(open(\"../data/video_meta_dict.pkl\", 'rb'))\n",
    "black_frame_dict = pickle.load(open(\"../data/black_frame_dict.pkl\", 'rb'))"
   ]
  },
  {
   "cell_type": "code",
   "execution_count": null,
   "metadata": {},
   "outputs": [],
   "source": [
    "video_name = 'CNNW_20150805_170000_Wolf'\n",
    "transcript_path = \"../data/videos/\" + video_name + '.cc5.srt'\n",
    "commercial_list, err_str = detect_commercial(meta_dict[video_name], black_frame_dict[video_name], transcript_path)\n",
    "print(commercial_list, err_str)"
   ]
  },
  {
   "cell_type": "code",
   "execution_count": null,
   "metadata": {
    "scrolled": true
   },
   "outputs": [],
   "source": [
    "import os\n",
    "from commercial_search import load_commercial_groundtruth\n",
    "from utility import get_time_from_second\n",
    "commercial_gt = load_commercial_groundtruth()\n",
    "commercial_dict = {}\n",
    "for video_name in sorted(commercial_gt):\n",
    "    print(video_name)\n",
    "    transcript_path = \"../data/transcripts_align/\" + video_name + '.align.srt'\n",
    "    if not video_name in meta_dict or not video_name in black_frame_dict or not os.path.exists(transcript_path):\n",
    "        continue\n",
    "    commercial_list, err_str = detect_commercial(meta_dict[video_name], black_frame_dict[video_name], transcript_path)\n",
    "    if not commercial_list is None:\n",
    "        commercial_dict[video_name] = [((0, get_time_from_second(int(s))),(0, get_time_from_second(e))) for (s,e) in commercial_list]\n",
    "pickle.dump(commercial_dict, open('../data/commercial_dict_align.pkl', 'wb'))"
   ]
  },
  {
   "cell_type": "code",
   "execution_count": null,
   "metadata": {
    "scrolled": true
   },
   "outputs": [],
   "source": [
    "from commercial_search import test_all_result\n",
    "test_all_result('../data/commercial_dict_new.pkl')"
   ]
  },
  {
   "cell_type": "code",
   "execution_count": null,
   "metadata": {
    "scrolled": false
   },
   "outputs": [],
   "source": [
    "from commercial_search import test_all_result\n",
    "test_all_result('../data/commercial_dict_align.pkl')"
   ]
  }
 ],
 "metadata": {
  "kernelspec": {
   "display_name": "Python 3",
   "language": "python",
   "name": "python3"
  },
  "language_info": {
   "codemirror_mode": {
    "name": "ipython",
    "version": 3
   },
   "file_extension": ".py",
   "mimetype": "text/x-python",
   "name": "python",
   "nbconvert_exporter": "python",
   "pygments_lexer": "ipython3",
   "version": "3.5.2"
  }
 },
 "nbformat": 4,
 "nbformat_minor": 2
}
