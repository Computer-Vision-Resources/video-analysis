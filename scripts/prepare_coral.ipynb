{
 "cells": [
  {
   "cell_type": "code",
   "execution_count": 1,
   "metadata": {},
   "outputs": [],
   "source": [
    "get_ipython().magic('matplotlib inline')\n",
    "get_ipython().magic('reload_ext autoreload')\n",
    "get_ipython().magic('autoreload 2')\n",
    "from commercial_search import *\n",
    "from commercial_check import *\n",
    "from prepare_commercial_coral import *"
   ]
  },
  {
   "cell_type": "code",
   "execution_count": null,
   "metadata": {},
   "outputs": [],
   "source": [
    "if __name__ == '__main__':\n",
    "\n",
    "    video_list_path = '../data/total_video_list.txt' \n",
    "    prepare_commercial_coral_parallel(video_list_path, '../data/commercial_coral_unlabeled.pkl', 8, True)"
   ]
  },
  {
   "cell_type": "code",
   "execution_count": null,
   "metadata": {},
   "outputs": [],
   "source": [
    "commercial_gt = load_commercial_groundtruth()\n",
    "d = pickle.load(open('../data/commercial_dict_coral.pkl','rb'))\n",
    "l = sorted(d)\n",
    "cnt = 0\n",
    "for video in l:\n",
    "    if video in commercial_gt:\n",
    "        del d[video]\n",
    "        cnt += 1\n",
    "print(cnt)\n",
    "pickle.dump(d, open('../data/commercial_dict_coral.pkl','wb'))"
   ]
  }
 ],
 "metadata": {
  "kernelspec": {
   "display_name": "Python 3",
   "language": "python",
   "name": "python3"
  },
  "language_info": {
   "codemirror_mode": {
    "name": "ipython",
    "version": 3
   },
   "file_extension": ".py",
   "mimetype": "text/x-python",
   "name": "python",
   "nbconvert_exporter": "python",
   "pygments_lexer": "ipython3",
   "version": "3.5.2"
  }
 },
 "nbformat": 4,
 "nbformat_minor": 2
}
