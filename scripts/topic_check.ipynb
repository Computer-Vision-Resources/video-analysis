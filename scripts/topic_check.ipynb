{
 "cells": [
  {
   "cell_type": "code",
   "execution_count": 1,
   "metadata": {},
   "outputs": [],
   "source": [
    "get_ipython().magic('matplotlib inline')\n",
    "get_ipython().magic('reload_ext autoreload')\n",
    "get_ipython().magic('autoreload 2')\n",
    "from topic_assign import *\n",
    "from topic_check import *"
   ]
  },
  {
   "cell_type": "markdown",
   "metadata": {},
   "source": [
    "# Check W2V model"
   ]
  },
  {
   "cell_type": "code",
   "execution_count": 4,
   "metadata": {},
   "outputs": [],
   "source": [
    "w2v_model = gensim.models.KeyedVectors.load_word2vec_format('../data/GoogleNews-vectors-negative300.bin', binary=True)"
   ]
  },
  {
   "cell_type": "code",
   "execution_count": null,
   "metadata": {},
   "outputs": [],
   "source": [
    "print(w2v_model.wv.similarity('available', 'space'))"
   ]
  },
  {
   "cell_type": "markdown",
   "metadata": {},
   "source": [
    "# Visualize all topic classification results"
   ]
  },
  {
   "cell_type": "code",
   "execution_count": 3,
   "metadata": {},
   "outputs": [],
   "source": [
    "topic_res = pickle.load(open('../data/topic_dict_res.pkl','rb'))"
   ]
  },
  {
   "cell_type": "code",
   "execution_count": null,
   "metadata": {},
   "outputs": [],
   "source": [
    "# plot_video_list(topic_res, ['Trump, Donald'], 'people', start_date=(2015,1,1), end_date=(2017,12,31), show_name='Hannity', station_name=None, show_sentiment=True)\n",
    "# plot_video_list(topic_res, ['Trump, Donald'], 'people', start_date=(2015,1,1), end_date=(2017,12,31), show_name='The_Rachel_Maddow_Show', station_name=None, show_sentiment=True)\n",
    "# plot_video_list(topic_res, ['Clinton, Hillary'], 'people', start_date=(2015,1,1), end_date=(2017,12,31), show_name=None, station_name=['CNN', 'FOXNEWS', 'MSNBC'], show_sentiment=True)\n",
    "\n",
    "plot_video_list(topic_res, ['Bill, Cosby'], 'people', start_date=(2015,1,1), end_date=(2017,12,31), show_name=None, station_name=None, show_sentiment=False)"
   ]
  },
  {
   "cell_type": "markdown",
   "metadata": {},
   "source": [
    "# Visualize single video"
   ]
  },
  {
   "cell_type": "code",
   "execution_count": null,
   "metadata": {},
   "outputs": [],
   "source": [
    "video_name = 'MSNBCW_20170510_010000_The_Rachel_Maddow_Show'\n",
    "plot_single_video(topic_res[video_name], ['Trump, Donald', 'Clinton, Hillary'], 'people')"
   ]
  },
  {
   "cell_type": "markdown",
   "metadata": {},
   "source": [
    "# Find topic co-relation"
   ]
  },
  {
   "cell_type": "code",
   "execution_count": null,
   "metadata": {},
   "outputs": [],
   "source": [
    "r = find_cooccurrence(topic_res, \"Clinton, Hillary\", 'people', start_date=(2015,1,1), end_date=(2017,12,31), show_name=None, station_name=None, top_k=30)"
   ]
  },
  {
   "cell_type": "markdown",
   "metadata": {},
   "source": [
    "# Plot most mentioned topics"
   ]
  },
  {
   "cell_type": "code",
   "execution_count": null,
   "metadata": {},
   "outputs": [],
   "source": [
    "plot_most_mentioned(topic_res, start_date=(2015,1,1), end_date=(2017,12,31) )"
   ]
  }
 ],
 "metadata": {
  "kernelspec": {
   "display_name": "Python 3",
   "language": "python",
   "name": "python3"
  },
  "language_info": {
   "codemirror_mode": {
    "name": "ipython",
    "version": 3
   },
   "file_extension": ".py",
   "mimetype": "text/x-python",
   "name": "python",
   "nbconvert_exporter": "python",
   "pygments_lexer": "ipython3",
   "version": "3.5.2"
  }
 },
 "nbformat": 4,
 "nbformat_minor": 2
}
