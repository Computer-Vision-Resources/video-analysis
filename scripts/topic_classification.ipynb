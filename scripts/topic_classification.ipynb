{
 "cells": [
  {
   "cell_type": "code",
   "execution_count": 6,
   "metadata": {},
   "outputs": [],
   "source": [
    "get_ipython().magic('matplotlib inline')\n",
    "get_ipython().magic('reload_ext autoreload')\n",
    "get_ipython().magic('autoreload 2')\n",
    "from topic_assign import *\n",
    "# import sys\n",
    "# default_stdout = sys.stdout\n",
    "# sys.stdout = open('../log/log_topic_dict.txt', 'w')"
   ]
  },
  {
   "cell_type": "code",
   "execution_count": 12,
   "metadata": {},
   "outputs": [],
   "source": [
    "sys.stdout = default_stdout"
   ]
  },
  {
   "cell_type": "markdown",
   "metadata": {},
   "source": [
    "# Classify topic "
   ]
  },
  {
   "cell_type": "code",
   "execution_count": null,
   "metadata": {},
   "outputs": [],
   "source": [
    "# load model for single video test\n",
    "start = time.time()\n",
    "w2v_model = gensim.models.KeyedVectors.load_word2vec_format('../data/GoogleNews-vectors-negative300.bin', binary=True)\n",
    "topic_dict = pickle.load(open('../data/topic_dict.pkl', 'rb'))\n",
    "com_dict = pickle.load(open('../data/commercial_dict.pkl', 'rb'))\n",
    "print(time.time()-start)"
   ]
  },
  {
   "cell_type": "code",
   "execution_count": null,
   "metadata": {},
   "outputs": [],
   "source": [
    "# test on single video\n",
    "test_single_video('FOXNEWSW_20161001_010000_The_Kelly_File', topic_dict, com_dict, w2v_model)"
   ]
  },
  {
   "cell_type": "code",
   "execution_count": null,
   "metadata": {},
   "outputs": [],
   "source": [
    "# classify topic through multithread\n",
    "if __name__ == '__main__':\n",
    "\n",
    "    start_time = time.time()\n",
    "    # video_list_path = '../data/labeled_video_list.txt'\n",
    "#     video_list_path = '../data/video_list_Rachel_Maddow.txt'\n",
    "    # video_list_path = '../data/video_list_Happening_Now2.txt'\n",
    "    # video_list_path = '../data/video_list_Wolf.txt'\n",
    "    video_list_path = '../data/total_video_list.txt'\n",
    "\n",
    "    assign_topic_multiprocess(video_list_path, \"../data/topic_dict_res2.pkl\", 60)\n",
    "    print(\"--- %s seconds ---\" % (time.time() - start_time))        "
   ]
  },
  {
   "cell_type": "markdown",
   "metadata": {},
   "source": [
    "# Download topics from online source"
   ]
  },
  {
   "cell_type": "code",
   "execution_count": 7,
   "metadata": {},
   "outputs": [],
   "source": [
    "# get topics\n",
    "import re\n",
    "allstr = open('../data/location.html', 'r').read()\n",
    "# print(allstr)\n",
    "\n",
    "names = re.findall(r\"<li class=\\\"t link-dark\\\"><a href=\\\"(.*?)\\\">(.*?)</a></li>\", allstr)\n",
    "topic_dict['location'] = []\n",
    "for item in names:\n",
    "    topic_dict['location'].append(item[1])\n",
    "#     print(item[1])\n",
    "# pickle.dump(topic_dict, open('../data/topic_dict.pkl', 'wb'))"
   ]
  }
 ],
 "metadata": {
  "kernelspec": {
   "display_name": "Python 3",
   "language": "python",
   "name": "python3"
  },
  "language_info": {
   "codemirror_mode": {
    "name": "ipython",
    "version": 3
   },
   "file_extension": ".py",
   "mimetype": "text/x-python",
   "name": "python",
   "nbconvert_exporter": "python",
   "pygments_lexer": "ipython3",
   "version": "3.5.2"
  }
 },
 "nbformat": 4,
 "nbformat_minor": 2
}
