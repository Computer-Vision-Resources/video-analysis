{
 "cells": [
  {
   "cell_type": "code",
   "execution_count": 30,
   "metadata": {},
   "outputs": [],
   "source": [
    "%matplotlib inline\n",
    "import numpy\n",
    "import pysrt\n",
    "import gensim\n",
    "import textacy\n",
    "import logging\n",
    "logging.basicConfig(format='%(asctime)s : %(levelname)s : %(message)s', level=logging.INFO)"
   ]
  },
  {
   "cell_type": "code",
   "execution_count": 127,
   "metadata": {},
   "outputs": [],
   "source": [
    "# Load transcripts and preprocess the text\n",
    "transcripts = []\n",
    "transcript_single = []\n",
    "\n",
    "for line in open('../data/test_video_list.txt'):\n",
    "    srt_name = line.replace('tvnews', '../data').replace('mp4', 'cc5.srt')[:-1]\n",
    "    offsets = []\n",
    "    transcript = ''\n",
    "    replace_list = ['\\n', '>', '.', ',', '?', '!', '\\'', '\"', '-', '(', ')']\n",
    "    #subs = pysrt.open(srt_name)\n",
    "    subs = pysrt.open('../data/videos/MSNBC_20110830_080000_The_Rachel_Maddow_Show.cc5.srt')\n",
    "    idx = 0\n",
    "    for sub in subs:\n",
    "        offsets.append((len(transcript), sub.start, sub.end))\n",
    "        text = sub.text\n",
    "        for token in replace_list:\n",
    "            text = text.replace(token, ' ')\n",
    "        transcript += text.upper() + ' '\n",
    "        if idx >= 10:\n",
    "            idx = 0;    \n",
    "            transcript_single.append(transcript)\n",
    "            transcript = ''\n",
    "        else:\n",
    "            idx += 1\n",
    "    transcripts.append((None, transcript, offsets))\n",
    "    break"
   ]
  },
  {
   "cell_type": "code",
   "execution_count": 128,
   "metadata": {},
   "outputs": [],
   "source": [
    "# Extract PROPN and NOUN using textacy\n",
    "# docs = [textacy.doc.Doc(transcript, lang=u'en', metadata={'offsets': offsets}) for (video, transcript, offsets) in transcripts]\n",
    "# corpus = textacy.Corpus(u'en', docs=docs)\n",
    "\n",
    "docs = [textacy.doc.Doc(transcript, lang=u'en') for transcript in transcript_single]\n",
    "corpus = textacy.Corpus(u'en', docs=docs)\n",
    "\n",
    "transcript_tokens = [\n",
    "    list(textacy.extract.words(doc, filter_nums=True, include_pos=['PROPN', 'NOUN'])) \n",
    "    for doc in corpus.docs]\n"
   ]
  },
  {
   "cell_type": "code",
   "execution_count": 129,
   "metadata": {},
   "outputs": [
    {
     "name": "stderr",
     "output_type": "stream",
     "text": [
      "2017-12-29 01:39:50,098 : INFO : adding document #0 to Dictionary(0 unique tokens: [])\n",
      "2017-12-29 01:39:50,105 : INFO : built Dictionary(1042 unique tokens: ['BALANCE', 'CIVIL', 'PHRASE', 'FLOODWATERS', 'BREACH']...) from 121 documents (total 2351 corpus positions)\n"
     ]
    },
    {
     "name": "stdout",
     "output_type": "stream",
     "text": [
      "121\n",
      "Dictionary(1042 unique tokens: ['BALANCE', 'CIVIL', 'PHRASE', 'FLOODWATERS', 'BREACH']...)\n"
     ]
    }
   ],
   "source": [
    "# Build dictionary and corpora using gensim\n",
    "transcript_tokens = [[str(token) for token in tokens if len(str(token)) > 1] for tokens in transcript_tokens]\n",
    "print(len(transcript_tokens))\n",
    "dictionary = gensim.corpora.Dictionary(transcript_tokens)\n",
    "print(dictionary)\n",
    "\n",
    "corpus = [dictionary.doc2bow(tokens) for tokens in transcript_tokens]\n",
    "#print(corpus)"
   ]
  },
  {
   "cell_type": "code",
   "execution_count": 130,
   "metadata": {},
   "outputs": [
    {
     "name": "stderr",
     "output_type": "stream",
     "text": [
      "2017-12-29 01:40:36,469 : INFO : collecting document frequencies\n",
      "2017-12-29 01:40:36,470 : INFO : PROGRESS: processing document #0\n",
      "2017-12-29 01:40:36,472 : INFO : calculating IDF weights for 121 documents and 1041 features (2101 matrix non-zeros)\n"
     ]
    }
   ],
   "source": [
    "# Topic extraction\n",
    "# step 1 -- initialize a model\n",
    "tfidf = gensim.models.TfidfModel(corpus) "
   ]
  },
  {
   "cell_type": "code",
   "execution_count": 131,
   "metadata": {},
   "outputs": [],
   "source": [
    "# step 2 -- apply the transformation to a whole corpus\n",
    "corpus_tfidf = tfidf[corpus]\n",
    "#for doc in corpus_tfidf:\n",
    "#    print(doc)"
   ]
  },
  {
   "cell_type": "code",
   "execution_count": 134,
   "metadata": {},
   "outputs": [
    {
     "name": "stderr",
     "output_type": "stream",
     "text": [
      "2017-12-29 01:47:27,227 : INFO : using serial LSI version on this node\n",
      "2017-12-29 01:47:27,228 : INFO : updating model with new documents\n",
      "2017-12-29 01:47:27,232 : INFO : preparing a new chunk of documents\n",
      "2017-12-29 01:47:27,234 : INFO : using 100 extra samples and 2 power iterations\n",
      "2017-12-29 01:47:27,235 : INFO : 1st phase: constructing (1042, 120) action matrix\n",
      "2017-12-29 01:47:27,237 : INFO : orthonormalizing (1042, 120) action matrix\n",
      "2017-12-29 01:47:27,251 : INFO : 2nd phase: running dense svd on (120, 121) matrix\n",
      "2017-12-29 01:47:27,262 : INFO : computing the final decomposition\n",
      "2017-12-29 01:47:27,265 : INFO : keeping 20 factors (discarding 70.728% of energy spectrum)\n",
      "2017-12-29 01:47:27,268 : INFO : processed documents up to #121\n",
      "2017-12-29 01:47:27,271 : INFO : topic #0(1.845): 0.266*\"SOCIAL\" + 0.237*\"RICK\" + 0.233*\"SECURITY\" + 0.230*\"PERRY\" + 0.205*\"IT\" + 0.187*\"LIE\" + 0.154*\"PEOPLE\" + 0.151*\"GENERATION\" + 0.139*\"HE\" + 0.125*\"CAMPAIGN\"\n",
      "2017-12-29 01:47:27,273 : INFO : topic #1(1.636): -0.276*\"SOCIAL\" + -0.232*\"SECURITY\" + -0.213*\"LIE\" + -0.200*\"RICK\" + -0.181*\"PERRY\" + -0.162*\"GENERATION\" + 0.135*\"STATE\" + 0.130*\"PRESIDENT\" + 0.127*\"ADMINISTRATION\" + -0.118*\"TRAIL\"\n",
      "2017-12-29 01:47:27,275 : INFO : topic #2(1.452): 0.295*\"STATE\" + -0.225*\"BUSH\" + -0.166*\"CHENEY\" + -0.161*\"PRESIDENT\" + 0.155*\"STORM\" + -0.143*\"ADMINISTRATION\" + 0.142*\"VERMONT\" + 0.139*\"IRENE\" + -0.133*\"HE\" + 0.127*\"COAST\"\n",
      "2017-12-29 01:47:27,277 : INFO : topic #3(1.418): 0.426*\"MEDICARE\" + 0.219*\"INSURANCE\" + 0.195*\"AL\" + 0.183*\"QAEDA\" + 0.175*\"TALIBAN\" + 0.173*\"SUPPLEMENT\" + -0.148*\"BUDGET\" + 0.143*\"AARP\" + 0.139*\"PLAN\" + -0.138*\"STATE\"\n",
      "2017-12-29 01:47:27,280 : INFO : topic #4(1.396): -0.392*\"BUDGET\" + -0.276*\"TEXAS\" + -0.261*\"MEDICARE\" + -0.170*\"HE\" + -0.126*\"INSURANCE\" + -0.122*\"TAX\" + 0.118*\"BUSH\" + 0.118*\"LIE\" + -0.116*\"SHORTFALL\" + -0.116*\"CONSTITUTION\"\n",
      "2017-12-29 01:47:27,282 : INFO : topic #0(1.845): 0.266*\"SOCIAL\" + 0.237*\"RICK\" + 0.233*\"SECURITY\" + 0.230*\"PERRY\" + 0.205*\"IT\" + 0.187*\"LIE\" + 0.154*\"PEOPLE\" + 0.151*\"GENERATION\" + 0.139*\"HE\" + 0.125*\"CAMPAIGN\"\n",
      "2017-12-29 01:47:27,285 : INFO : topic #1(1.636): -0.276*\"SOCIAL\" + -0.232*\"SECURITY\" + -0.213*\"LIE\" + -0.200*\"RICK\" + -0.181*\"PERRY\" + -0.162*\"GENERATION\" + 0.135*\"STATE\" + 0.130*\"PRESIDENT\" + 0.127*\"ADMINISTRATION\" + -0.118*\"TRAIL\"\n",
      "2017-12-29 01:47:27,287 : INFO : topic #2(1.452): 0.295*\"STATE\" + -0.225*\"BUSH\" + -0.166*\"CHENEY\" + -0.161*\"PRESIDENT\" + 0.155*\"STORM\" + -0.143*\"ADMINISTRATION\" + 0.142*\"VERMONT\" + 0.139*\"IRENE\" + -0.133*\"HE\" + 0.127*\"COAST\"\n",
      "2017-12-29 01:47:27,289 : INFO : topic #3(1.418): 0.426*\"MEDICARE\" + 0.219*\"INSURANCE\" + 0.195*\"AL\" + 0.183*\"QAEDA\" + 0.175*\"TALIBAN\" + 0.173*\"SUPPLEMENT\" + -0.148*\"BUDGET\" + 0.143*\"AARP\" + 0.139*\"PLAN\" + -0.138*\"STATE\"\n",
      "2017-12-29 01:47:27,291 : INFO : topic #4(1.396): -0.392*\"BUDGET\" + -0.276*\"TEXAS\" + -0.261*\"MEDICARE\" + -0.170*\"HE\" + -0.126*\"INSURANCE\" + -0.122*\"TAX\" + 0.118*\"BUSH\" + 0.118*\"LIE\" + -0.116*\"SHORTFALL\" + -0.116*\"CONSTITUTION\"\n",
      "2017-12-29 01:47:27,293 : INFO : topic #5(1.383): -0.336*\"MEDICARE\" + 0.278*\"TALIBAN\" + 0.265*\"AL\" + 0.249*\"QAEDA\" + 0.219*\"REPORTER\" + 0.164*\"BUDGET\" + -0.154*\"INSURANCE\" + 0.141*\"AMERICANS\" + -0.137*\"SUPPLEMENT\" + 0.123*\"CIA\"\n",
      "2017-12-29 01:47:27,295 : INFO : topic #6(1.345): -0.202*\"ADVISORS\" + 0.194*\"BUSH\" + -0.191*\"COUNCIL\" + -0.189*\"KRUGER\" + -0.178*\"GOOLSBEE\" + -0.165*\"ECONOMIC\" + -0.153*\"GUY\" + 0.136*\"CHENEY\" + -0.131*\"SENATE\" + -0.128*\"TALIBAN\"\n",
      "2017-12-29 01:47:27,297 : INFO : topic #7(1.332): 0.218*\"STATE\" + -0.206*\"US\" + -0.181*\"CODE\" + -0.181*\"LOU\" + -0.162*\"WASHINGTON\" + 0.147*\"MEDICARE\" + -0.141*\"EZRA\" + 0.138*\"POLICY\" + 0.136*\"CHENEY\" + -0.133*\"MELISSA\"\n",
      "2017-12-29 01:47:27,299 : INFO : topic #8(1.308): 0.316*\"STATE\" + -0.263*\"VE\" + -0.168*\"PEOPLE\" + -0.156*\"NATION\" + -0.151*\"ROLE\" + -0.142*\"CONGRESS\" + 0.124*\"TONIGHT\" + -0.123*\"GOVERNMENT\" + 0.119*\"STORM\" + 0.116*\"LOU\"\n",
      "2017-12-29 01:47:27,300 : INFO : topic #9(1.258): -0.222*\"HURRICANE\" + -0.194*\"SIXTH\" + -0.182*\"COAST\" + 0.179*\"DISASTER\" + 0.162*\"ROLE\" + -0.158*\"ANNIVERSARY\" + -0.152*\"RECOVERY\" + -0.152*\"KATRINA\" + -0.139*\"GULF\" + 0.125*\"GOVERNMENT\"\n",
      "2017-12-29 01:47:27,301 : INFO : topic #10(1.241): -0.233*\"RECOVERY\" + 0.187*\"LESSONS\" + 0.181*\"KATRINA\" + -0.138*\"CONGRESS\" + 0.136*\"SENSE\" + 0.129*\"VULNERABILITY\" + 0.128*\"ORLEANS\" + 0.127*\"DISASTER\" + 0.123*\"TERM\" + -0.120*\"CODE\"\n",
      "2017-12-29 01:47:27,302 : INFO : topic #11(1.223): -0.196*\"VE\" + -0.165*\"EZRA\" + -0.165*\"TONIGHT\" + 0.163*\"LOU\" + 0.163*\"CODE\" + 0.138*\"AMERICANS\" + -0.133*\"COLUMNIST\" + -0.133*\"POST\" + -0.122*\"WAR\" + 0.122*\"RECOVERY\"\n",
      "2017-12-29 01:47:27,306 : INFO : topic #12(1.220): 0.198*\"TERM\" + 0.176*\"ADMINISTRATION\" + -0.167*\"REPUBLICAN\" + -0.163*\"DON\" + 0.162*\"WHO\" + 0.159*\"LESSONS\" + -0.151*\"VERMONT\" + -0.137*\"SOMETHING\" + 0.127*\"KATRINA\" + 0.118*\"ECONOMIST\"\n",
      "2017-12-29 01:47:27,307 : INFO : topic #13(1.208): -0.355*\"BOOK\" + -0.263*\"HEADS\" + -0.176*\"COLIN\" + -0.137*\"ACCOUNT\" + -0.125*\"SHOT\" + -0.122*\"REVELATIONS\" + -0.122*\"INTERESTING\" + 0.120*\"BUSH\" + -0.119*\"FUTURE\" + 0.118*\"SOMETHING\"\n",
      "2017-12-29 01:47:27,308 : INFO : topic #14(1.200): 0.258*\"RECOVERY\" + -0.247*\"VE\" + 0.151*\"CONGRESS\" + 0.142*\"WAR\" + -0.123*\"TALIBAN\" + 0.121*\"COURSE\" + 0.119*\"IRAQ\" + -0.115*\"IT\" + 0.115*\"SENATE\" + 0.113*\"NEW\"\n",
      "2017-12-29 01:47:27,309 : INFO : topic #15(1.194): 0.227*\"RECOVERY\" + 0.174*\"VE\" + -0.151*\"IRAQ\" + -0.128*\"WAR\" + 0.123*\"DON\" + -0.106*\"HEADS\" + 0.106*\"TERM\" + -0.105*\"WHOSE\" + -0.100*\"FELLOW\" + 0.098*\"THINGS\"\n",
      "2017-12-29 01:47:27,310 : INFO : topic #16(1.179): 0.174*\"RECOVERY\" + 0.160*\"MONEY\" + -0.136*\"PEOPLE\" + -0.134*\"TEXAS\" + 0.131*\"VE\" + -0.130*\"GULF\" + 0.129*\"IRENE\" + -0.128*\"ADMINISTRATION\" + -0.127*\"COAST\" + 0.119*\"STIMULUS\"\n",
      "2017-12-29 01:47:27,310 : INFO : topic #17(1.166): 0.147*\"FEAR\" + 0.117*\"AMERICANS\" + -0.117*\"MONEY\" + -0.117*\"STIMULUS\" + 0.112*\"BUDGET\" + -0.112*\"HE\" + -0.111*\"AL\" + 0.108*\"BOOK\" + 0.108*\"TIME\" + -0.104*\"SHOTS\"\n",
      "2017-12-29 01:47:27,311 : INFO : topic #18(1.161): 0.245*\"GOOLSBEE\" + 0.173*\"VE\" + -0.142*\"AMERICANS\" + -0.123*\"EZRA\" + 0.119*\"AUSTAN\" + 0.114*\"GIDDY\" + -0.108*\"TALIBAN\" + -0.108*\"CONGRESS\" + 0.101*\"RACHEL\" + -0.101*\"POST\"\n",
      "2017-12-29 01:47:27,312 : INFO : topic #19(1.160): -0.209*\"LL\" + -0.199*\"ECONOMIST\" + -0.199*\"ADMINISTRATION\" + 0.136*\"LESSONS\" + -0.130*\"WHO\" + -0.120*\"BEST\" + 0.118*\"ROLE\" + -0.109*\"SHOTS\" + 0.101*\"HIM\" + -0.095*\"ABILITY\"\n"
     ]
    },
    {
     "data": {
      "text/plain": [
       "[(0,\n",
       "  '0.266*\"SOCIAL\" + 0.237*\"RICK\" + 0.233*\"SECURITY\" + 0.230*\"PERRY\" + 0.205*\"IT\" + 0.187*\"LIE\" + 0.154*\"PEOPLE\" + 0.151*\"GENERATION\" + 0.139*\"HE\" + 0.125*\"CAMPAIGN\"'),\n",
       " (1,\n",
       "  '-0.276*\"SOCIAL\" + -0.232*\"SECURITY\" + -0.213*\"LIE\" + -0.200*\"RICK\" + -0.181*\"PERRY\" + -0.162*\"GENERATION\" + 0.135*\"STATE\" + 0.130*\"PRESIDENT\" + 0.127*\"ADMINISTRATION\" + -0.118*\"TRAIL\"'),\n",
       " (2,\n",
       "  '0.295*\"STATE\" + -0.225*\"BUSH\" + -0.166*\"CHENEY\" + -0.161*\"PRESIDENT\" + 0.155*\"STORM\" + -0.143*\"ADMINISTRATION\" + 0.142*\"VERMONT\" + 0.139*\"IRENE\" + -0.133*\"HE\" + 0.127*\"COAST\"'),\n",
       " (3,\n",
       "  '0.426*\"MEDICARE\" + 0.219*\"INSURANCE\" + 0.195*\"AL\" + 0.183*\"QAEDA\" + 0.175*\"TALIBAN\" + 0.173*\"SUPPLEMENT\" + -0.148*\"BUDGET\" + 0.143*\"AARP\" + 0.139*\"PLAN\" + -0.138*\"STATE\"'),\n",
       " (4,\n",
       "  '-0.392*\"BUDGET\" + -0.276*\"TEXAS\" + -0.261*\"MEDICARE\" + -0.170*\"HE\" + -0.126*\"INSURANCE\" + -0.122*\"TAX\" + 0.118*\"BUSH\" + 0.118*\"LIE\" + -0.116*\"SHORTFALL\" + -0.116*\"CONSTITUTION\"'),\n",
       " (5,\n",
       "  '-0.336*\"MEDICARE\" + 0.278*\"TALIBAN\" + 0.265*\"AL\" + 0.249*\"QAEDA\" + 0.219*\"REPORTER\" + 0.164*\"BUDGET\" + -0.154*\"INSURANCE\" + 0.141*\"AMERICANS\" + -0.137*\"SUPPLEMENT\" + 0.123*\"CIA\"'),\n",
       " (6,\n",
       "  '-0.202*\"ADVISORS\" + 0.194*\"BUSH\" + -0.191*\"COUNCIL\" + -0.189*\"KRUGER\" + -0.178*\"GOOLSBEE\" + -0.165*\"ECONOMIC\" + -0.153*\"GUY\" + 0.136*\"CHENEY\" + -0.131*\"SENATE\" + -0.128*\"TALIBAN\"'),\n",
       " (7,\n",
       "  '0.218*\"STATE\" + -0.206*\"US\" + -0.181*\"CODE\" + -0.181*\"LOU\" + -0.162*\"WASHINGTON\" + 0.147*\"MEDICARE\" + -0.141*\"EZRA\" + 0.138*\"POLICY\" + 0.136*\"CHENEY\" + -0.133*\"MELISSA\"'),\n",
       " (8,\n",
       "  '0.316*\"STATE\" + -0.263*\"VE\" + -0.168*\"PEOPLE\" + -0.156*\"NATION\" + -0.151*\"ROLE\" + -0.142*\"CONGRESS\" + 0.124*\"TONIGHT\" + -0.123*\"GOVERNMENT\" + 0.119*\"STORM\" + 0.116*\"LOU\"'),\n",
       " (9,\n",
       "  '-0.222*\"HURRICANE\" + -0.194*\"SIXTH\" + -0.182*\"COAST\" + 0.179*\"DISASTER\" + 0.162*\"ROLE\" + -0.158*\"ANNIVERSARY\" + -0.152*\"RECOVERY\" + -0.152*\"KATRINA\" + -0.139*\"GULF\" + 0.125*\"GOVERNMENT\"'),\n",
       " (10,\n",
       "  '-0.233*\"RECOVERY\" + 0.187*\"LESSONS\" + 0.181*\"KATRINA\" + -0.138*\"CONGRESS\" + 0.136*\"SENSE\" + 0.129*\"VULNERABILITY\" + 0.128*\"ORLEANS\" + 0.127*\"DISASTER\" + 0.123*\"TERM\" + -0.120*\"CODE\"'),\n",
       " (11,\n",
       "  '-0.196*\"VE\" + -0.165*\"EZRA\" + -0.165*\"TONIGHT\" + 0.163*\"LOU\" + 0.163*\"CODE\" + 0.138*\"AMERICANS\" + -0.133*\"COLUMNIST\" + -0.133*\"POST\" + -0.122*\"WAR\" + 0.122*\"RECOVERY\"'),\n",
       " (12,\n",
       "  '0.198*\"TERM\" + 0.176*\"ADMINISTRATION\" + -0.167*\"REPUBLICAN\" + -0.163*\"DON\" + 0.162*\"WHO\" + 0.159*\"LESSONS\" + -0.151*\"VERMONT\" + -0.137*\"SOMETHING\" + 0.127*\"KATRINA\" + 0.118*\"ECONOMIST\"'),\n",
       " (13,\n",
       "  '-0.355*\"BOOK\" + -0.263*\"HEADS\" + -0.176*\"COLIN\" + -0.137*\"ACCOUNT\" + -0.125*\"SHOT\" + -0.122*\"REVELATIONS\" + -0.122*\"INTERESTING\" + 0.120*\"BUSH\" + -0.119*\"FUTURE\" + 0.118*\"SOMETHING\"'),\n",
       " (14,\n",
       "  '0.258*\"RECOVERY\" + -0.247*\"VE\" + 0.151*\"CONGRESS\" + 0.142*\"WAR\" + -0.123*\"TALIBAN\" + 0.121*\"COURSE\" + 0.119*\"IRAQ\" + -0.115*\"IT\" + 0.115*\"SENATE\" + 0.113*\"NEW\"'),\n",
       " (15,\n",
       "  '0.227*\"RECOVERY\" + 0.174*\"VE\" + -0.151*\"IRAQ\" + -0.128*\"WAR\" + 0.123*\"DON\" + -0.106*\"HEADS\" + 0.106*\"TERM\" + -0.105*\"WHOSE\" + -0.100*\"FELLOW\" + 0.098*\"THINGS\"'),\n",
       " (16,\n",
       "  '0.174*\"RECOVERY\" + 0.160*\"MONEY\" + -0.136*\"PEOPLE\" + -0.134*\"TEXAS\" + 0.131*\"VE\" + -0.130*\"GULF\" + 0.129*\"IRENE\" + -0.128*\"ADMINISTRATION\" + -0.127*\"COAST\" + 0.119*\"STIMULUS\"'),\n",
       " (17,\n",
       "  '0.147*\"FEAR\" + 0.117*\"AMERICANS\" + -0.117*\"MONEY\" + -0.117*\"STIMULUS\" + 0.112*\"BUDGET\" + -0.112*\"HE\" + -0.111*\"AL\" + 0.108*\"BOOK\" + 0.108*\"TIME\" + -0.104*\"SHOTS\"'),\n",
       " (18,\n",
       "  '0.245*\"GOOLSBEE\" + 0.173*\"VE\" + -0.142*\"AMERICANS\" + -0.123*\"EZRA\" + 0.119*\"AUSTAN\" + 0.114*\"GIDDY\" + -0.108*\"TALIBAN\" + -0.108*\"CONGRESS\" + 0.101*\"RACHEL\" + -0.101*\"POST\"'),\n",
       " (19,\n",
       "  '-0.209*\"LL\" + -0.199*\"ECONOMIST\" + -0.199*\"ADMINISTRATION\" + 0.136*\"LESSONS\" + -0.130*\"WHO\" + -0.120*\"BEST\" + 0.118*\"ROLE\" + -0.109*\"SHOTS\" + 0.101*\"HIM\" + -0.095*\"ABILITY\"')]"
      ]
     },
     "execution_count": 134,
     "metadata": {},
     "output_type": "execute_result"
    }
   ],
   "source": [
    "# step 3 -- # initialize an LSI transformation\n",
    "lsi = gensim.models.LsiModel(corpus_tfidf, id2word=dictionary, num_topics=20) \n",
    "corpus_lsi = lsi[corpus_tfidf]\n",
    "\n",
    "lsi.print_topics(20)\n",
    "\n",
    "#for doc in corpus_lsi: # both bow->tfidf and tfidf->lsi transformations are actually executed here, on the fly\n",
    "#    print(doc)"
   ]
  },
  {
   "cell_type": "code",
   "execution_count": 135,
   "metadata": {},
   "outputs": [
    {
     "name": "stderr",
     "output_type": "stream",
     "text": [
      "2017-12-29 02:00:00,036 : INFO : using symmetric alpha at 0.05\n",
      "2017-12-29 02:00:00,037 : INFO : using symmetric eta at 0.05\n",
      "2017-12-29 02:00:00,038 : INFO : using serial LDA version on this node\n",
      "2017-12-29 02:00:00,314 : INFO : running online (single-pass) LDA training, 20 topics, 1 passes over the supplied corpus of 121 documents, updating model once every 121 documents, evaluating perplexity every 121 documents, iterating 50x with a convergence threshold of 0.001000\n",
      "2017-12-29 02:00:00,315 : WARNING : too few updates, training might not converge; consider increasing the number of passes or iterations to improve accuracy\n",
      "2017-12-29 02:00:00,832 : INFO : -81.421 per-word bound, 3238220728713074995888128.0 perplexity estimate based on a held-out corpus of 121 documents with 470 words\n",
      "2017-12-29 02:00:00,833 : INFO : PROGRESS: pass 0, at document #121/121\n",
      "2017-12-29 02:00:00,952 : INFO : topic #17 (0.050): 0.010*\"REPUBLICAN\" + 0.007*\"BIPARTISANSHIP\" + 0.007*\"RECORD\" + 0.007*\"SEAMS\" + 0.006*\"CANDIDATES\" + 0.006*\"PARTY\" + 0.006*\"MEMOIR\" + 0.005*\"PRESIDENTIAL\" + 0.004*\"SOMETHING\" + 0.004*\"BUSH\"\n",
      "2017-12-29 02:00:00,953 : INFO : topic #5 (0.050): 0.010*\"VICTORY\" + 0.009*\"WATERBURY\" + 0.008*\"ADMINISTRATION\" + 0.006*\"ME\" + 0.006*\"WHAT\" + 0.006*\"FOCUS\" + 0.006*\"ABILITY\" + 0.006*\"YEARS\" + 0.006*\"NUMBER\" + 0.006*\"ENJOYMENT\"\n",
      "2017-12-29 02:00:00,955 : INFO : topic #13 (0.050): 0.007*\"TENS\" + 0.007*\"PROBLEM\" + 0.007*\"HORIZONS\" + 0.007*\"STATE\" + 0.006*\"RELEASE\" + 0.006*\"MILLIONS\" + 0.006*\"FLOODING\" + 0.006*\"RAIN\" + 0.006*\"END\" + 0.005*\"SOMEONE\"\n",
      "2017-12-29 02:00:00,956 : INFO : topic #11 (0.050): 0.009*\"POLICY\" + 0.008*\"CONSTITUTION\" + 0.007*\"TEXAS\" + 0.007*\"TALIBAN\" + 0.007*\"BUDGET\" + 0.005*\"SOMETHING\" + 0.005*\"APPROXIMATELY\" + 0.005*\"URBAN\" + 0.005*\"HOMETOWN\" + 0.005*\"AMERICANS\"\n",
      "2017-12-29 02:00:00,957 : INFO : topic #19 (0.050): 0.007*\"STATE\" + 0.007*\"VERMONT\" + 0.006*\"PITCH\" + 0.006*\"SOMETHING\" + 0.006*\"PEOPLE\" + 0.006*\"EZRA\" + 0.005*\"US\" + 0.005*\"IT\" + 0.005*\"TRAIL\" + 0.005*\"LESSONS\"\n",
      "2017-12-29 02:00:00,958 : INFO : topic diff=15.764668, rho=1.000000\n",
      "2017-12-29 02:00:00,959 : INFO : topic #0 (0.050): 0.008*\"MONEY\" + 0.008*\"VE\" + 0.007*\"DONE\" + 0.007*\"SORRY\" + 0.007*\"GULF\" + 0.007*\"TALIBAN\" + 0.007*\"REPORTER\" + 0.006*\"AMERICANS\" + 0.006*\"WATER\" + 0.006*\"HELPING\"\n",
      "2017-12-29 02:00:00,960 : INFO : topic #1 (0.050): 0.009*\"ECONOMIST\" + 0.008*\"MEDICARE\" + 0.008*\"WHO\" + 0.006*\"BUSH\" + 0.006*\"THINKER\" + 0.006*\"POSITION\" + 0.006*\"WHOSE\" + 0.005*\"ANNIVERSARY\" + 0.005*\"REPUBLICANS\" + 0.005*\"WORD\"\n",
      "2017-12-29 02:00:00,961 : INFO : topic #2 (0.050): 0.009*\"GIFT\" + 0.007*\"INCREDIBLY\" + 0.007*\"NEW\" + 0.006*\"LL\" + 0.006*\"TONIGHT\" + 0.005*\"DON\" + 0.005*\"HE\" + 0.005*\"RICH\" + 0.005*\"TAXES\" + 0.005*\"WEALTH\"\n",
      "2017-12-29 02:00:00,962 : INFO : topic #3 (0.050): 0.010*\"GOOLSBEE\" + 0.008*\"TERROR\" + 0.005*\"WATERBOARDING\" + 0.005*\"INTERROGATION\" + 0.005*\"STOUTEST\" + 0.005*\"ENHANCED\" + 0.005*\"VIEW\" + 0.005*\"SUSPECTS\" + 0.005*\"WRITTEN\" + 0.005*\"PHRASE\"\n",
      "2017-12-29 02:00:00,963 : INFO : topic #4 (0.050): 0.008*\"DISASTER\" + 0.007*\"STATE\" + 0.006*\"DULL\" + 0.006*\"RELIEF\" + 0.006*\"WAR\" + 0.005*\"BIN\" + 0.005*\"WHAT\" + 0.005*\"NEW\" + 0.005*\"EMERGENCY\" + 0.005*\"TIME\"\n",
      "2017-12-29 02:00:00,965 : INFO : topic #5 (0.050): 0.010*\"VICTORY\" + 0.009*\"WATERBURY\" + 0.008*\"ADMINISTRATION\" + 0.006*\"ME\" + 0.006*\"WHAT\" + 0.006*\"FOCUS\" + 0.006*\"ABILITY\" + 0.006*\"YEARS\" + 0.006*\"NUMBER\" + 0.006*\"ENJOYMENT\"\n",
      "2017-12-29 02:00:00,965 : INFO : topic #6 (0.050): 0.008*\"SENATE\" + 0.008*\"SIXTH\" + 0.007*\"ED\" + 0.007*\"LABOR\" + 0.007*\"HE\" + 0.006*\"WAGES\" + 0.006*\"COURSE\" + 0.006*\"NON\" + 0.006*\"TONIGHT\" + 0.006*\"ROLE\"\n",
      "2017-12-29 02:00:00,967 : INFO : topic #7 (0.050): 0.013*\"RECOVERY\" + 0.012*\"CONGRESS\" + 0.008*\"MEDICARE\" + 0.007*\"EXPENSES\" + 0.007*\"AL\" + 0.006*\"THINGS\" + 0.006*\"WRINKLES\" + 0.006*\"OPERATIONAL\" + 0.006*\"LEADERSHIP\" + 0.006*\"MAN\"\n",
      "2017-12-29 02:00:00,968 : INFO : topic #8 (0.050): 0.009*\"SECURITY\" + 0.009*\"SOCIAL\" + 0.006*\"FEDERALISM\" + 0.006*\"PRINCIPLES\" + 0.006*\"MONSTROUSLY\" + 0.006*\"RICK\" + 0.005*\"EXAMPLE\" + 0.005*\"PERRY\" + 0.005*\"IDEA\" + 0.004*\"LIE\"\n",
      "2017-12-29 02:00:00,969 : INFO : topic #9 (0.050): 0.008*\"SAME\" + 0.007*\"CRITICISM\" + 0.007*\"SHOTS\" + 0.006*\"ADMINISTRATION\" + 0.006*\"RANKER\" + 0.006*\"QUITE\" + 0.006*\"DYSFUNCTION\" + 0.005*\"VERMONT\" + 0.005*\"CAMPAIGN\" + 0.005*\"TRAIL\"\n",
      "2017-12-29 02:00:00,970 : INFO : topic #10 (0.050): 0.008*\"SESSION\" + 0.008*\"TAX\" + 0.007*\"BUDGET\" + 0.007*\"FEAR\" + 0.006*\"MEDICAID\" + 0.006*\"VE\" + 0.006*\"CONTROLLER\" + 0.006*\"SHORTFALL\" + 0.006*\"GOVERNOR\" + 0.006*\"MEDICARE\"\n",
      "2017-12-29 02:00:00,971 : INFO : topic #11 (0.050): 0.009*\"POLICY\" + 0.008*\"CONSTITUTION\" + 0.007*\"TEXAS\" + 0.007*\"TALIBAN\" + 0.007*\"BUDGET\" + 0.005*\"SOMETHING\" + 0.005*\"APPROXIMATELY\" + 0.005*\"URBAN\" + 0.005*\"HOMETOWN\" + 0.005*\"AMERICANS\"\n",
      "2017-12-29 02:00:00,971 : INFO : topic #12 (0.050): 0.009*\"TERM\" + 0.008*\"MEAN\" + 0.007*\"TODAY\" + 0.006*\"LIE\" + 0.006*\"RESPONSE\" + 0.006*\"POLICY\" + 0.005*\"KATRINA\" + 0.005*\"MUTUAL\" + 0.005*\"RESEARCH\" + 0.005*\"LESSONS\"\n",
      "2017-12-29 02:00:00,973 : INFO : topic #13 (0.050): 0.007*\"TENS\" + 0.007*\"PROBLEM\" + 0.007*\"HORIZONS\" + 0.007*\"STATE\" + 0.006*\"RELEASE\" + 0.006*\"MILLIONS\" + 0.006*\"FLOODING\" + 0.006*\"RAIN\" + 0.006*\"END\" + 0.005*\"SOMEONE\"\n",
      "2017-12-29 02:00:00,973 : INFO : topic #14 (0.050): 0.007*\"APOLOGIES\" + 0.006*\"IT\" + 0.006*\"INVESTING\" + 0.006*\"WEEKEND\" + 0.006*\"VICE\" + 0.005*\"STORY\" + 0.005*\"HANDS\" + 0.005*\"CRITIQUES\" + 0.005*\"CLEARLY\" + 0.005*\"CENTER\"\n",
      "2017-12-29 02:00:00,974 : INFO : topic #15 (0.050): 0.009*\"COLIN\" + 0.009*\"OH\" + 0.007*\"HEADS\" + 0.007*\"ADVISORS\" + 0.007*\"COUNCIL\" + 0.006*\"BOOK\" + 0.006*\"HAD\" + 0.006*\"HURRICANES\" + 0.006*\"DISTRICT\" + 0.006*\"SHOT\"\n",
      "2017-12-29 02:00:00,975 : INFO : topic #16 (0.050): 0.009*\"UNDERPERFORM\" + 0.008*\"RECOVERY\" + 0.007*\"CODE\" + 0.007*\"LOU\" + 0.006*\"POWER\" + 0.006*\"IT\" + 0.005*\"PERRY\" + 0.005*\"RAIN\" + 0.005*\"EAST\" + 0.005*\"SOLVENT\"\n",
      "2017-12-29 02:00:00,976 : INFO : topic #17 (0.050): 0.010*\"REPUBLICAN\" + 0.007*\"BIPARTISANSHIP\" + 0.007*\"RECORD\" + 0.007*\"SEAMS\" + 0.006*\"CANDIDATES\" + 0.006*\"PARTY\" + 0.006*\"MEMOIR\" + 0.005*\"PRESIDENTIAL\" + 0.004*\"SOMETHING\" + 0.004*\"BUSH\"\n",
      "2017-12-29 02:00:00,976 : INFO : topic #18 (0.050): 0.008*\"PEOPLE\" + 0.008*\"VOICES\" + 0.006*\"JOB\" + 0.006*\"STIMULUS\" + 0.006*\"FUTURE\" + 0.006*\"HE\" + 0.006*\"GOVERNMENT\" + 0.006*\"AMERICAN\" + 0.006*\"BUDGET\" + 0.005*\"FOUNDING\"\n",
      "2017-12-29 02:00:00,977 : INFO : topic #19 (0.050): 0.007*\"STATE\" + 0.007*\"VERMONT\" + 0.006*\"PITCH\" + 0.006*\"SOMETHING\" + 0.006*\"PEOPLE\" + 0.006*\"EZRA\" + 0.005*\"US\" + 0.005*\"IT\" + 0.005*\"TRAIL\" + 0.005*\"LESSONS\"\n"
     ]
    },
    {
     "data": {
      "text/plain": [
       "[(0,\n",
       "  '0.008*\"MONEY\" + 0.008*\"VE\" + 0.007*\"DONE\" + 0.007*\"SORRY\" + 0.007*\"GULF\" + 0.007*\"TALIBAN\" + 0.007*\"REPORTER\" + 0.006*\"AMERICANS\" + 0.006*\"WATER\" + 0.006*\"HELPING\"'),\n",
       " (1,\n",
       "  '0.009*\"ECONOMIST\" + 0.008*\"MEDICARE\" + 0.008*\"WHO\" + 0.006*\"BUSH\" + 0.006*\"THINKER\" + 0.006*\"POSITION\" + 0.006*\"WHOSE\" + 0.005*\"ANNIVERSARY\" + 0.005*\"REPUBLICANS\" + 0.005*\"WORD\"'),\n",
       " (2,\n",
       "  '0.009*\"GIFT\" + 0.007*\"INCREDIBLY\" + 0.007*\"NEW\" + 0.006*\"LL\" + 0.006*\"TONIGHT\" + 0.005*\"DON\" + 0.005*\"HE\" + 0.005*\"RICH\" + 0.005*\"TAXES\" + 0.005*\"WEALTH\"'),\n",
       " (3,\n",
       "  '0.010*\"GOOLSBEE\" + 0.008*\"TERROR\" + 0.005*\"WATERBOARDING\" + 0.005*\"INTERROGATION\" + 0.005*\"STOUTEST\" + 0.005*\"ENHANCED\" + 0.005*\"VIEW\" + 0.005*\"SUSPECTS\" + 0.005*\"WRITTEN\" + 0.005*\"PHRASE\"'),\n",
       " (4,\n",
       "  '0.008*\"DISASTER\" + 0.007*\"STATE\" + 0.006*\"DULL\" + 0.006*\"RELIEF\" + 0.006*\"WAR\" + 0.005*\"BIN\" + 0.005*\"WHAT\" + 0.005*\"NEW\" + 0.005*\"EMERGENCY\" + 0.005*\"TIME\"'),\n",
       " (5,\n",
       "  '0.010*\"VICTORY\" + 0.009*\"WATERBURY\" + 0.008*\"ADMINISTRATION\" + 0.006*\"ME\" + 0.006*\"WHAT\" + 0.006*\"FOCUS\" + 0.006*\"ABILITY\" + 0.006*\"YEARS\" + 0.006*\"NUMBER\" + 0.006*\"ENJOYMENT\"'),\n",
       " (6,\n",
       "  '0.008*\"SENATE\" + 0.008*\"SIXTH\" + 0.007*\"ED\" + 0.007*\"LABOR\" + 0.007*\"HE\" + 0.006*\"WAGES\" + 0.006*\"COURSE\" + 0.006*\"NON\" + 0.006*\"TONIGHT\" + 0.006*\"ROLE\"'),\n",
       " (7,\n",
       "  '0.013*\"RECOVERY\" + 0.012*\"CONGRESS\" + 0.008*\"MEDICARE\" + 0.007*\"EXPENSES\" + 0.007*\"AL\" + 0.006*\"THINGS\" + 0.006*\"WRINKLES\" + 0.006*\"OPERATIONAL\" + 0.006*\"LEADERSHIP\" + 0.006*\"MAN\"'),\n",
       " (8,\n",
       "  '0.009*\"SECURITY\" + 0.009*\"SOCIAL\" + 0.006*\"FEDERALISM\" + 0.006*\"PRINCIPLES\" + 0.006*\"MONSTROUSLY\" + 0.006*\"RICK\" + 0.005*\"EXAMPLE\" + 0.005*\"PERRY\" + 0.005*\"IDEA\" + 0.004*\"LIE\"'),\n",
       " (9,\n",
       "  '0.008*\"SAME\" + 0.007*\"CRITICISM\" + 0.007*\"SHOTS\" + 0.006*\"ADMINISTRATION\" + 0.006*\"RANKER\" + 0.006*\"QUITE\" + 0.006*\"DYSFUNCTION\" + 0.005*\"VERMONT\" + 0.005*\"CAMPAIGN\" + 0.005*\"TRAIL\"'),\n",
       " (10,\n",
       "  '0.008*\"SESSION\" + 0.008*\"TAX\" + 0.007*\"BUDGET\" + 0.007*\"FEAR\" + 0.006*\"MEDICAID\" + 0.006*\"VE\" + 0.006*\"CONTROLLER\" + 0.006*\"SHORTFALL\" + 0.006*\"GOVERNOR\" + 0.006*\"MEDICARE\"'),\n",
       " (11,\n",
       "  '0.009*\"POLICY\" + 0.008*\"CONSTITUTION\" + 0.007*\"TEXAS\" + 0.007*\"TALIBAN\" + 0.007*\"BUDGET\" + 0.005*\"SOMETHING\" + 0.005*\"APPROXIMATELY\" + 0.005*\"URBAN\" + 0.005*\"HOMETOWN\" + 0.005*\"AMERICANS\"'),\n",
       " (12,\n",
       "  '0.009*\"TERM\" + 0.008*\"MEAN\" + 0.007*\"TODAY\" + 0.006*\"LIE\" + 0.006*\"RESPONSE\" + 0.006*\"POLICY\" + 0.005*\"KATRINA\" + 0.005*\"MUTUAL\" + 0.005*\"RESEARCH\" + 0.005*\"LESSONS\"'),\n",
       " (13,\n",
       "  '0.007*\"TENS\" + 0.007*\"PROBLEM\" + 0.007*\"HORIZONS\" + 0.007*\"STATE\" + 0.006*\"RELEASE\" + 0.006*\"MILLIONS\" + 0.006*\"FLOODING\" + 0.006*\"RAIN\" + 0.006*\"END\" + 0.005*\"SOMEONE\"'),\n",
       " (14,\n",
       "  '0.007*\"APOLOGIES\" + 0.006*\"IT\" + 0.006*\"INVESTING\" + 0.006*\"WEEKEND\" + 0.006*\"VICE\" + 0.005*\"STORY\" + 0.005*\"HANDS\" + 0.005*\"CRITIQUES\" + 0.005*\"CLEARLY\" + 0.005*\"CENTER\"'),\n",
       " (15,\n",
       "  '0.009*\"COLIN\" + 0.009*\"OH\" + 0.007*\"HEADS\" + 0.007*\"ADVISORS\" + 0.007*\"COUNCIL\" + 0.006*\"BOOK\" + 0.006*\"HAD\" + 0.006*\"HURRICANES\" + 0.006*\"DISTRICT\" + 0.006*\"SHOT\"'),\n",
       " (16,\n",
       "  '0.009*\"UNDERPERFORM\" + 0.008*\"RECOVERY\" + 0.007*\"CODE\" + 0.007*\"LOU\" + 0.006*\"POWER\" + 0.006*\"IT\" + 0.005*\"PERRY\" + 0.005*\"RAIN\" + 0.005*\"EAST\" + 0.005*\"SOLVENT\"'),\n",
       " (17,\n",
       "  '0.010*\"REPUBLICAN\" + 0.007*\"BIPARTISANSHIP\" + 0.007*\"RECORD\" + 0.007*\"SEAMS\" + 0.006*\"CANDIDATES\" + 0.006*\"PARTY\" + 0.006*\"MEMOIR\" + 0.005*\"PRESIDENTIAL\" + 0.004*\"SOMETHING\" + 0.004*\"BUSH\"'),\n",
       " (18,\n",
       "  '0.008*\"PEOPLE\" + 0.008*\"VOICES\" + 0.006*\"JOB\" + 0.006*\"STIMULUS\" + 0.006*\"FUTURE\" + 0.006*\"HE\" + 0.006*\"GOVERNMENT\" + 0.006*\"AMERICAN\" + 0.006*\"BUDGET\" + 0.005*\"FOUNDING\"'),\n",
       " (19,\n",
       "  '0.007*\"STATE\" + 0.007*\"VERMONT\" + 0.006*\"PITCH\" + 0.006*\"SOMETHING\" + 0.006*\"PEOPLE\" + 0.006*\"EZRA\" + 0.005*\"US\" + 0.005*\"IT\" + 0.005*\"TRAIL\" + 0.005*\"LESSONS\"')]"
      ]
     },
     "execution_count": 135,
     "metadata": {},
     "output_type": "execute_result"
    }
   ],
   "source": [
    "# step 3 -- # initialize an Random Projection transformation\n",
    "#rp = gensim.models.RpModel(corpus_tfidf, id2word=dictionary, num_topics=100) \n",
    "#corpus_rp = rp[corpus_tfidf]\n",
    "\n",
    "lda = gensim.models.LdaModel(corpus_tfidf, id2word=dictionary, num_topics=20) \n",
    "corpus_lda = lda[corpus_tfidf]\n",
    "\n",
    "\n",
    "# hdp = gensim.models.HdpModel(corpus_tfidf, id2word=dictionary) \n",
    "# corpus_hdp = hdp[corpus_tfidf]\n",
    "\n",
    "lda.print_topics(20)"
   ]
  }
 ],
 "metadata": {
  "kernelspec": {
   "display_name": "Python 3",
   "language": "python",
   "name": "python3"
  },
  "language_info": {
   "codemirror_mode": {
    "name": "ipython",
    "version": 3
   },
   "file_extension": ".py",
   "mimetype": "text/x-python",
   "name": "python",
   "nbconvert_exporter": "python",
   "pygments_lexer": "ipython3",
   "version": "3.5.2"
  }
 },
 "nbformat": 4,
 "nbformat_minor": 2
}
